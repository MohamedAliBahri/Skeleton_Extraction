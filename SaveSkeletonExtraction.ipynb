{
 "cells": [
  {
   "cell_type": "markdown",
   "id": "b4228de1",
   "metadata": {},
   "source": [
    "# Skeleton Extraction"
   ]
  },
  {
   "cell_type": "markdown",
   "id": "8b9775e3",
   "metadata": {},
   "source": [
    "###### Extracting several skeleton shapes from an image set "
   ]
  },
  {
   "cell_type": "code",
   "execution_count": 17,
   "id": "895d3a54",
   "metadata": {},
   "outputs": [
    {
     "name": "stdout",
     "output_type": "stream",
     "text": [
      "Skeleton extraction and saving complete.\n"
     ]
    }
   ],
   "source": [
    "import cv2\n",
    "import os\n",
    "import numpy as np\n",
    "\n",
    "# Path to the folder containing the images\n",
    "folder_path = r\"Folder_Path\"\n",
    "\n",
    "# Get a list of all image filenames in the folder\n",
    "image_filenames = [os.path.join(folder_path, f) for f in os.listdir(folder_path) if f.endswith('.jpg')]\n",
    "\n",
    "# Loop over each image file and extract the skeleton\n",
    "for filename in image_filenames:\n",
    "    # Read the image\n",
    "    img = cv2.imread(filename)\n",
    "    \n",
    "    # Convert the image to grayscale\n",
    "    gray = cv2.cvtColor(img, cv2.COLOR_BGR2GRAY)\n",
    "    \n",
    "    # Apply a binary threshold to the image\n",
    "    ret, thresh = cv2.threshold(gray, 127, 255, cv2.THRESH_BINARY)\n",
    "    \n",
    "    # Apply a morphological transformation to the binary image\n",
    "    kernel = np.ones((5,5),np.uint8)\n",
    "    morph = cv2.morphologyEx(thresh, cv2.MORPH_CLOSE, kernel)\n",
    "    \n",
    "    # Apply a thinning algorithm to the binary image to extract the skeleton\n",
    "    skeleton = cv2.ximgproc.thinning(morph)\n",
    "    \n",
    "    # Save the extracted skeleton as a separate image file\n",
    "    skeleton_filename = os.path.splitext(os.path.basename(filename))[0] + '_skeleton.jpg'\n",
    "    skeleton_path = os.path.join(folder_path, skeleton_filename)\n",
    "    cv2.imwrite(skeleton_path, skeleton)\n",
    "    \n",
    "# Print a message to confirm that the extraction and saving is complete\n",
    "print('Skeleton extraction and saving complete.')"
   ]
  },
  {
   "cell_type": "code",
   "execution_count": null,
   "id": "d558e072",
   "metadata": {},
   "outputs": [],
   "source": []
  }
 ],
 "metadata": {
  "kernelspec": {
   "display_name": "Python 3 (ipykernel)",
   "language": "python",
   "name": "python3"
  },
  "language_info": {
   "codemirror_mode": {
    "name": "ipython",
    "version": 3
   },
   "file_extension": ".py",
   "mimetype": "text/x-python",
   "name": "python",
   "nbconvert_exporter": "python",
   "pygments_lexer": "ipython3",
   "version": "3.9.13"
  }
 },
 "nbformat": 4,
 "nbformat_minor": 5
}
